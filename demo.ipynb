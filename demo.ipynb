{
 "cells": [
  {
   "cell_type": "markdown",
   "metadata": {},
   "source": [
    "# Demonstracja zadania\n",
    "Pakiet został zainstalowany komendą:\n",
    "```bash\n",
    "pip install git+https://github.com/AGHPythonCourse2017/zad3-mateusz-olczyk.git\n",
    "```\n",
    "Aplikacja wyszukuje losowy artykuł, wyświetla o nim podstawowe informacje oraz wskazuje ile razy słowo *POSTTRUTH* można zbudować z liter stanowiącycch treść artykułu."
   ]
  },
  {
   "cell_type": "code",
   "execution_count": 1,
   "metadata": {},
   "outputs": [
    {
     "name": "stderr",
     "output_type": "stream",
     "text": [
      "unable to cache TLDs in file /usr/local/lib/python3.5/dist-packages/tldextract/.tld_set: [Errno 13] Permission denied: '/usr/local/lib/python3.5/dist-packages/tldextract/.tld_set'\n"
     ]
    },
    {
     "name": "stdout",
     "output_type": "stream",
     "text": [
      "WEBSITE: Wyborcza\n",
      "DATE: None\n",
      "AUTHOR: Marta Gruszecka\n",
      "TITLE: Tańce, światła, hity. Justice i Imagine Dragons - gwiazdy drugiego dnia Orange Warsaw Festival\n",
      "TEXT: Justice na Orange Warsaw Festival / DAWID ŻUCHOWICZ\n",
      "\n",
      "Tańce, światła, hity. Justice i Imagine Dragons - gwiazdy drugiego dnia Orange Warsaw Festival\n",
      "\n",
      "\n",
      "\n",
      "Na Torze Wyścigów Konnych na Służewcu w Warszawie.......\n",
      "POST-TRUTH INDICATOR: 54\n"
     ]
    }
   ],
   "source": [
    "import posttruthanalyzer\n",
    "posttruthanalyzer.action()"
   ]
  },
  {
   "cell_type": "code",
   "execution_count": null,
   "metadata": {
    "collapsed": true
   },
   "outputs": [],
   "source": []
  }
 ],
 "metadata": {
  "kernelspec": {
   "display_name": "Python 3",
   "language": "python",
   "name": "python3"
  },
  "language_info": {
   "codemirror_mode": {
    "name": "ipython",
    "version": 3
   },
   "file_extension": ".py",
   "mimetype": "text/x-python",
   "name": "python",
   "nbconvert_exporter": "python",
   "pygments_lexer": "ipython3",
   "version": "3.5.3"
  }
 },
 "nbformat": 4,
 "nbformat_minor": 2
}
